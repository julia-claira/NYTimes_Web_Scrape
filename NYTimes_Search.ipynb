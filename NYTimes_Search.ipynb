{
 "cells": [
  {
   "cell_type": "code",
   "execution_count": 137,
   "metadata": {},
   "outputs": [],
   "source": [
    "import pandas as pd\n",
    "from bs4 import BeautifulSoup\n",
    "from splinter import Browser\n",
    "from webdriver_manager.chrome import ChromeDriverManager\n",
    "import pymongo\n",
    "from flask import Flask, jsonify\n",
    "import time\n",
    "import re\n",
    "import random\n",
    "from datetime import datetime\n",
    "import math\n",
    "import matplotlib.pyplot as plt"
   ]
  },
  {
   "cell_type": "code",
   "execution_count": null,
   "metadata": {},
   "outputs": [],
   "source": []
  },
  {
   "cell_type": "code",
   "execution_count": null,
   "metadata": {},
   "outputs": [],
   "source": [
    "#####CREATE WEB-SCRAPING BOT##########"
   ]
  },
  {
   "cell_type": "code",
   "execution_count": 709,
   "metadata": {},
   "outputs": [],
   "source": [
    "#opens NYTimes\n",
    "def open_nytimes():\n",
    "    browser.visit(\"https://nytimes.com\")"
   ]
  },
  {
   "cell_type": "code",
   "execution_count": 710,
   "metadata": {},
   "outputs": [],
   "source": [
    "#finds the search icon on the opening page and clicks it\n",
    "def click_search_icon():\n",
    "    buttons = browser.find_by_tag('button')\n",
    "\n",
    "    for button in buttons:\n",
    "        if (button.value==\"SEARCH\"):\n",
    "            button.click()\n",
    "            break"
   ]
  },
  {
   "cell_type": "code",
   "execution_count": 711,
   "metadata": {},
   "outputs": [],
   "source": [
    "#fills in the search bar\n",
    "def enter_text(search_word):\n",
    "\n",
    "    browser.find_by_tag('input').fill(search_word)"
   ]
  },
  {
   "cell_type": "code",
   "execution_count": 712,
   "metadata": {},
   "outputs": [],
   "source": [
    "#finds the 'Go' button and clicks it to start search\n",
    "def click_go():\n",
    "    buttons = browser.find_by_tag('button')\n",
    "    #the 'Go' button is the +1 after the search icon\n",
    "    found = False \n",
    "\n",
    "    for button in buttons:\n",
    "        if (found):\n",
    "            button.click()\n",
    "            break\n",
    "        if (button.value==\"SEARCH\"):\n",
    "            found = True"
   ]
  },
  {
   "cell_type": "code",
   "execution_count": 713,
   "metadata": {},
   "outputs": [],
   "source": [
    " #return updated html\n",
    "def get_updated_html():\n",
    "    thesoup=parser(browser.html)\n",
    "    thesoup = BeautifulSoup(browser.html, 'html.parser')\n",
    "\n",
    "    return thesoup"
   ]
  },
  {
   "cell_type": "code",
   "execution_count": 714,
   "metadata": {},
   "outputs": [],
   "source": [
    "#function to click 'show more'\n",
    "def show_more ():\n",
    "    if(browser.is_element_not_present_by_text('Show More')):\n",
    "        return True\n",
    "    else:\n",
    "        browser.find_by_text('Show More').click()\n",
    "        return False\n",
    "    "
   ]
  },
  {
   "cell_type": "code",
   "execution_count": 715,
   "metadata": {},
   "outputs": [],
   "source": [
    "#finds headers\n",
    "def get_new_headers(soup):\n",
    "    temps=soup.find_all('h4', class_=\"css-2fgx4k\")\n",
    "\n",
    "    for temp in temps:\n",
    "        if (temp.find_parent(href=True)):\n",
    "            parent=temp.find_parent(href=True)['href']\n",
    "            if (parent not in articles):\n",
    "                if(re.search(r'^/\\d\\d\\d\\d/\\d\\d/\\d\\d/', parent)):\n",
    "                    titles.append(temp.text)"
   ]
  },
  {
   "cell_type": "code",
   "execution_count": 716,
   "metadata": {},
   "outputs": [],
   "source": [
    "#finds subheaders\n",
    "def get_new_subs(soup):\n",
    "    temps=soup.find_all('p', class_=\"css-16nhkrn\")\n",
    "\n",
    "    for temp in temps:\n",
    "        if (temp.find_parent(href=True)):\n",
    "            parent=temp.find_parent(href=True)['href']\n",
    "            if (parent not in articles):\n",
    "                if(re.search(r'^/\\d\\d\\d\\d/\\d\\d/\\d\\d/', parent)):\n",
    "                    subheaders.append(temp.text)"
   ]
  },
  {
   "cell_type": "code",
   "execution_count": 717,
   "metadata": {},
   "outputs": [],
   "source": [
    "#sections\n",
    "def get_new_sections(soup):\n",
    "    temps=soup.find_all('p', class_=\"css-myxawk\")\n",
    "\n",
    "    for temp in temps:\n",
    "        if (temp.find_parent(href=True)):\n",
    "            parent=temp.find_parent(href=True)['href']\n",
    "            if (parent not in articles):\n",
    "                if(re.search(r'^/\\d\\d\\d\\d/\\d\\d/\\d\\d/', parent)):\n",
    "                    sections.append(temp.text)"
   ]
  },
  {
   "cell_type": "code",
   "execution_count": 626,
   "metadata": {},
   "outputs": [
    {
     "data": {
      "text/plain": [
       "<a href=\"https://artsbeat.blogs.nytimes.com/2010/01/12/glaad-award-nominees-include-glee-true-blood-mad-men-and-precious/?searchResultPosition=34\"><h4 class=\"css-2fgx4k\">GLAAD Award Nominees Include ‘Glee,’ ‘True Blood,’ ‘Mad Men’ and ‘Precious’</h4><p class=\"css-16nhkrn\">The Gay &amp; Lesbian Alliance Against Defamation announced the nominees for its annual GLAAD Media Awards, “recognizing and honoring media for outstanding images” of the lesbian, gay, bisexual and transgender people.</p><p class=\"css-15w69y9\">By Dave Itzkoff</p></a>"
      ]
     },
     "execution_count": 626,
     "metadata": {},
     "output_type": "execute_result"
    }
   ],
   "source": [
    "thelinks=soup.find_all(href=True)\n",
    "thelinks[61]"
   ]
  },
  {
   "cell_type": "code",
   "execution_count": 661,
   "metadata": {},
   "outputs": [
    {
     "data": {
      "text/plain": [
       "<p class=\"css-myxawk\">Arts</p>"
      ]
     },
     "execution_count": 661,
     "metadata": {},
     "output_type": "execute_result"
    }
   ],
   "source": [
    "thelinks[61].parent.find('p', class_=\"css-myxawk\")"
   ]
  },
  {
   "cell_type": "code",
   "execution_count": 718,
   "metadata": {},
   "outputs": [],
   "source": [
    "#function to pull article data\n",
    "def get_article_data(soup):\n",
    "    thelinks=soup.find_all(href=True)\n",
    "\n",
    "    for link in thelinks:\n",
    "        \n",
    "        #makes sure is article rather than a podcast or video, based on link convention\n",
    "        if(re.search(r'^/\\d\\d\\d\\d/\\d\\d/\\d\\d/', link['href'])):\n",
    "            \n",
    "            #makes sure not already entered into database\n",
    "            if (link['href'] not in articles):\n",
    "                \n",
    "                #extracts the date from the link\n",
    "                temp=link['href'].split('/')\n",
    "                dates.append(temp[2] + '/' +  temp[3] + '/' + temp[1])\n",
    "                articles.append(link['href'])\n",
    "                \n",
    "                #finds the title associated with the link\n",
    "                if(link.find('h4')!=None): \n",
    "                    titles.append(link.find('h4').text)\n",
    "                else: \n",
    "                    titles.append(\"\")\n",
    "                \n",
    "                #finds the sub text associated with the link\n",
    "                if(link.find('p', class_=\"css-16nhkrn\")!=None):\n",
    "                    subheaders.append(link.find('p', class_=\"css-16nhkrn\").text)\n",
    "                else: \n",
    "                    subheaders.append(\"\")\n",
    "                    \n",
    "                #finds the section associated with    \n",
    "                if(link.parent.find('p', class_=\"css-myxawk\")!=None):\n",
    "                    sections.append(link.parent.find('p', class_=\"css-myxawk\").text)\n",
    "                else: \n",
    "                    sections.append(\"\")\n",
    "                \n",
    "                \n",
    "                #if it doesn't meet the requirements removes it from the list\n",
    "                if(meets_requirement()==False):\n",
    "                    titles.pop()\n",
    "                    subheaders.pop()\n",
    "                    sections.pop()\n",
    "                    dates.pop()\n",
    "                    articles.pop()\n",
    "                    \n",
    "         \n",
    "                    \n",
    "                    "
   ]
  },
  {
   "cell_type": "code",
   "execution_count": 719,
   "metadata": {},
   "outputs": [],
   "source": [
    "#checks to see if main word or related words are in title or subheader\n",
    "#so search word is more than just an incidental piece to the article\n",
    "def meets_requirement():\n",
    "    matches=False\n",
    "    for word in related_words:\n",
    "        if(word in titles[len(titles)-1].lower()):\n",
    "            matches=True\n",
    "        if(word in subheaders[len(subheaders)-1].lower()):\n",
    "            matches=True\n",
    "    \n",
    "    return (matches)       "
   ]
  },
  {
   "cell_type": "code",
   "execution_count": null,
   "metadata": {},
   "outputs": [],
   "source": []
  },
  {
   "cell_type": "code",
   "execution_count": 202,
   "metadata": {},
   "outputs": [],
   "source": [
    "#####SCRAPE NEW YORK TIMES SITE##########"
   ]
  },
  {
   "cell_type": "code",
   "execution_count": 826,
   "metadata": {},
   "outputs": [
    {
     "name": "stderr",
     "output_type": "stream",
     "text": [
      "\n",
      "\n",
      "====== WebDriver manager ======\n",
      "Current google-chrome version is 94.0.4606\n",
      "Get LATEST driver version for 94.0.4606\n",
      "Driver [/Users/juliankauffmann/.wdm/drivers/chromedriver/mac64/94.0.4606.61/chromedriver] found in cache\n"
     ]
    }
   ],
   "source": [
    "#setup splinter\n",
    "executable_path= {'executable_path': ChromeDriverManager().install()}\n",
    "browser= Browser('chrome', **executable_path, headless=False)"
   ]
  },
  {
   "cell_type": "code",
   "execution_count": 827,
   "metadata": {},
   "outputs": [
    {
     "name": "stdout",
     "output_type": "stream",
     "text": [
      "complete\n"
     ]
    }
   ],
   "source": [
    "#Runs the bot to search NYTimes\n",
    "\n",
    "#initiate the lists\n",
    "titles=[]\n",
    "subheaders=[]\n",
    "sections=[]\n",
    "dates=[]\n",
    "articles=[]\n",
    "\n",
    "#word to search\n",
    "my_search='transgender'\n",
    "related_words=['transgender','gender','trans','transvestite','transsexual','tranny','non binary','non-binary','nonbinary','crossdress','cross-dress']\n",
    "search_date_in='01/01/1980'\n",
    "search_date_out='10/06/2021' #the current date at time of running the bot\n",
    "quit_searching=False\n",
    "\n",
    "\n",
    "#start the search\n",
    "open_nytimes()\n",
    "time.sleep(6)\n",
    "click_search_icon()\n",
    "enter_text(my_search)\n",
    "click_go()\n",
    "time.sleep(4)\n",
    "\n",
    "#searches within specified date\n",
    "browser.find_by_text('Date Range').click()\n",
    "browser.find_by_text('Specific Dates').click()\n",
    "browser.find_by_tag('input')[1].fill(search_date_in)\n",
    "browser.find_by_tag('input')[2].fill(search_date_out)\n",
    "show_more()\n",
    "\n",
    "#loop through articles until gets articles for final year\n",
    "while (quit_searching==False):\n",
    "    time.sleep(2)\n",
    "    soup=get_updated_html()\n",
    "    get_article_data(soup)\n",
    "    \n",
    "    time.sleep(random.randint(0,1))\n",
    "    quit_searching=show_more()\n",
    "        \n",
    "#runs one more time to make sure all the articles are pulled\n",
    "time.sleep(2)\n",
    "soup=get_updated_html()\n",
    "get_article_data(soup)\n",
    "\n",
    "\n",
    "print('complete')    "
   ]
  },
  {
   "cell_type": "code",
   "execution_count": 832,
   "metadata": {},
   "outputs": [],
   "source": [
    "browser.quit()"
   ]
  },
  {
   "cell_type": "code",
   "execution_count": null,
   "metadata": {},
   "outputs": [],
   "source": []
  },
  {
   "cell_type": "code",
   "execution_count": 829,
   "metadata": {},
   "outputs": [
    {
     "data": {
      "text/html": [
       "<div>\n",
       "<style scoped>\n",
       "    .dataframe tbody tr th:only-of-type {\n",
       "        vertical-align: middle;\n",
       "    }\n",
       "\n",
       "    .dataframe tbody tr th {\n",
       "        vertical-align: top;\n",
       "    }\n",
       "\n",
       "    .dataframe thead th {\n",
       "        text-align: right;\n",
       "    }\n",
       "</style>\n",
       "<table border=\"1\" class=\"dataframe\">\n",
       "  <thead>\n",
       "    <tr style=\"text-align: right;\">\n",
       "      <th></th>\n",
       "      <th>Headline</th>\n",
       "      <th>Subheader</th>\n",
       "      <th>Section</th>\n",
       "      <th>Date</th>\n",
       "      <th>URL</th>\n",
       "    </tr>\n",
       "  </thead>\n",
       "  <tbody>\n",
       "    <tr>\n",
       "      <th>0</th>\n",
       "      <td>Two transgender women win seats in the next Ge...</td>\n",
       "      <td>The two lawmakers, both from the Green Party, ...</td>\n",
       "      <td>Europe</td>\n",
       "      <td>09/27/2021</td>\n",
       "      <td>/2021/09/27/world/europe/german-parliament-tra...</td>\n",
       "    </tr>\n",
       "    <tr>\n",
       "      <th>1</th>\n",
       "      <td>For Transgender Youth, Stigma Is Just One Barr...</td>\n",
       "      <td>Discrimination, delays and systemic hurdles pr...</td>\n",
       "      <td>Health</td>\n",
       "      <td>09/28/2021</td>\n",
       "      <td>/2021/09/28/health/transgender-health-care.htm...</td>\n",
       "    </tr>\n",
       "    <tr>\n",
       "      <th>2</th>\n",
       "      <td>‘Sex Education’ Gets More Inclusive in Its Int...</td>\n",
       "      <td>With its new nonbinary characters and its scen...</td>\n",
       "      <td>Television</td>\n",
       "      <td>10/06/2021</td>\n",
       "      <td>/2021/10/06/arts/television/sex-education-seas...</td>\n",
       "    </tr>\n",
       "    <tr>\n",
       "      <th>3</th>\n",
       "      <td>The A.C.L.U. Errs on R.B.G.</td>\n",
       "      <td>A bad tweet reveals a rift over gender and rep...</td>\n",
       "      <td>Opinion</td>\n",
       "      <td>09/27/2021</td>\n",
       "      <td>/2021/09/27/opinion/rbg-aclu-abortion.html?sea...</td>\n",
       "    </tr>\n",
       "    <tr>\n",
       "      <th>4</th>\n",
       "      <td>Intimate Portraits of Mexico’s Third-Gender Muxes</td>\n",
       "      <td>On the Isthmus of Tehuantepec in southern Mexi...</td>\n",
       "      <td>Travel</td>\n",
       "      <td>09/27/2021</td>\n",
       "      <td>/2021/09/27/travel/mexico-muxes-third-gender.h...</td>\n",
       "    </tr>\n",
       "  </tbody>\n",
       "</table>\n",
       "</div>"
      ],
      "text/plain": [
       "                                            Headline  \\\n",
       "0  Two transgender women win seats in the next Ge...   \n",
       "1  For Transgender Youth, Stigma Is Just One Barr...   \n",
       "2  ‘Sex Education’ Gets More Inclusive in Its Int...   \n",
       "3                        The A.C.L.U. Errs on R.B.G.   \n",
       "4  Intimate Portraits of Mexico’s Third-Gender Muxes   \n",
       "\n",
       "                                           Subheader     Section        Date  \\\n",
       "0  The two lawmakers, both from the Green Party, ...      Europe  09/27/2021   \n",
       "1  Discrimination, delays and systemic hurdles pr...      Health  09/28/2021   \n",
       "2  With its new nonbinary characters and its scen...  Television  10/06/2021   \n",
       "3  A bad tweet reveals a rift over gender and rep...     Opinion  09/27/2021   \n",
       "4  On the Isthmus of Tehuantepec in southern Mexi...      Travel  09/27/2021   \n",
       "\n",
       "                                                 URL  \n",
       "0  /2021/09/27/world/europe/german-parliament-tra...  \n",
       "1  /2021/09/28/health/transgender-health-care.htm...  \n",
       "2  /2021/10/06/arts/television/sex-education-seas...  \n",
       "3  /2021/09/27/opinion/rbg-aclu-abortion.html?sea...  \n",
       "4  /2021/09/27/travel/mexico-muxes-third-gender.h...  "
      ]
     },
     "execution_count": 829,
     "metadata": {},
     "output_type": "execute_result"
    }
   ],
   "source": [
    "nytimes_2021=pd.DataFrame({\n",
    "    \"Headline\": titles,\n",
    "    \"Subheader\": subheaders,\n",
    "    \"Section\": sections,\n",
    "    \"Date\": dates,\n",
    "    \"URL\" : articles,\n",
    "})\n",
    "\n",
    "\n",
    "nytimes_2021.head()"
   ]
  },
  {
   "cell_type": "code",
   "execution_count": 830,
   "metadata": {},
   "outputs": [
    {
     "data": {
      "text/html": [
       "<div>\n",
       "<style scoped>\n",
       "    .dataframe tbody tr th:only-of-type {\n",
       "        vertical-align: middle;\n",
       "    }\n",
       "\n",
       "    .dataframe tbody tr th {\n",
       "        vertical-align: top;\n",
       "    }\n",
       "\n",
       "    .dataframe thead th {\n",
       "        text-align: right;\n",
       "    }\n",
       "</style>\n",
       "<table border=\"1\" class=\"dataframe\">\n",
       "  <thead>\n",
       "    <tr style=\"text-align: right;\">\n",
       "      <th></th>\n",
       "      <th>Headline</th>\n",
       "      <th>Subheader</th>\n",
       "      <th>Section</th>\n",
       "      <th>Date</th>\n",
       "      <th>URL</th>\n",
       "    </tr>\n",
       "  </thead>\n",
       "  <tbody>\n",
       "    <tr>\n",
       "      <th>0</th>\n",
       "      <td>Two transgender women win seats in the next Ge...</td>\n",
       "      <td>The two lawmakers, both from the Green Party, ...</td>\n",
       "      <td>Europe</td>\n",
       "      <td>09/27/2021</td>\n",
       "      <td>/2021/09/27/world/europe/german-parliament-tra...</td>\n",
       "    </tr>\n",
       "    <tr>\n",
       "      <th>1</th>\n",
       "      <td>For Transgender Youth, Stigma Is Just One Barr...</td>\n",
       "      <td>Discrimination, delays and systemic hurdles pr...</td>\n",
       "      <td>Health</td>\n",
       "      <td>09/28/2021</td>\n",
       "      <td>/2021/09/28/health/transgender-health-care.htm...</td>\n",
       "    </tr>\n",
       "    <tr>\n",
       "      <th>2</th>\n",
       "      <td>‘Sex Education’ Gets More Inclusive in Its Int...</td>\n",
       "      <td>With its new nonbinary characters and its scen...</td>\n",
       "      <td>Television</td>\n",
       "      <td>10/06/2021</td>\n",
       "      <td>/2021/10/06/arts/television/sex-education-seas...</td>\n",
       "    </tr>\n",
       "    <tr>\n",
       "      <th>3</th>\n",
       "      <td>The A.C.L.U. Errs on R.B.G.</td>\n",
       "      <td>A bad tweet reveals a rift over gender and rep...</td>\n",
       "      <td>Opinion</td>\n",
       "      <td>09/27/2021</td>\n",
       "      <td>/2021/09/27/opinion/rbg-aclu-abortion.html?sea...</td>\n",
       "    </tr>\n",
       "    <tr>\n",
       "      <th>4</th>\n",
       "      <td>Intimate Portraits of Mexico’s Third-Gender Muxes</td>\n",
       "      <td>On the Isthmus of Tehuantepec in southern Mexi...</td>\n",
       "      <td>Travel</td>\n",
       "      <td>09/27/2021</td>\n",
       "      <td>/2021/09/27/travel/mexico-muxes-third-gender.h...</td>\n",
       "    </tr>\n",
       "  </tbody>\n",
       "</table>\n",
       "</div>"
      ],
      "text/plain": [
       "                                            Headline  \\\n",
       "0  Two transgender women win seats in the next Ge...   \n",
       "1  For Transgender Youth, Stigma Is Just One Barr...   \n",
       "2  ‘Sex Education’ Gets More Inclusive in Its Int...   \n",
       "3                        The A.C.L.U. Errs on R.B.G.   \n",
       "4  Intimate Portraits of Mexico’s Third-Gender Muxes   \n",
       "\n",
       "                                           Subheader     Section        Date  \\\n",
       "0  The two lawmakers, both from the Green Party, ...      Europe  09/27/2021   \n",
       "1  Discrimination, delays and systemic hurdles pr...      Health  09/28/2021   \n",
       "2  With its new nonbinary characters and its scen...  Television  10/06/2021   \n",
       "3  A bad tweet reveals a rift over gender and rep...     Opinion  09/27/2021   \n",
       "4  On the Isthmus of Tehuantepec in southern Mexi...      Travel  09/27/2021   \n",
       "\n",
       "                                                 URL  \n",
       "0  /2021/09/27/world/europe/german-parliament-tra...  \n",
       "1  /2021/09/28/health/transgender-health-care.htm...  \n",
       "2  /2021/10/06/arts/television/sex-education-seas...  \n",
       "3  /2021/09/27/opinion/rbg-aclu-abortion.html?sea...  \n",
       "4  /2021/09/27/travel/mexico-muxes-third-gender.h...  "
      ]
     },
     "execution_count": 830,
     "metadata": {},
     "output_type": "execute_result"
    }
   ],
   "source": [
    "#1990-2016 transgender\n",
    "#1980-2000 trannsexual\n",
    "nytimes_1980_21=pd.concat([nytimes_2021,nytimes_1980_20t])\n",
    "nytimes_1980_21.head()"
   ]
  },
  {
   "cell_type": "code",
   "execution_count": null,
   "metadata": {},
   "outputs": [],
   "source": [
    "nytimes_1980_21.to_csv('nytimes_trans_1980_2021.csv')"
   ]
  },
  {
   "cell_type": "code",
   "execution_count": null,
   "metadata": {},
   "outputs": [],
   "source": []
  },
  {
   "cell_type": "code",
   "execution_count": 542,
   "metadata": {},
   "outputs": [],
   "source": [
    "#####CLEAN DATA##########"
   ]
  },
  {
   "cell_type": "code",
   "execution_count": 205,
   "metadata": {},
   "outputs": [],
   "source": [
    "#Opens csv dataframe created above\n",
    "nytimes_trans_db=pd.read_csv(\"data/nytimes_trans_1980_2021.csv\")"
   ]
  },
  {
   "cell_type": "code",
   "execution_count": 206,
   "metadata": {},
   "outputs": [],
   "source": [
    "#resets index\n",
    "nytimes_trans_db.reset_index(inplace=True)"
   ]
  },
  {
   "cell_type": "code",
   "execution_count": 207,
   "metadata": {},
   "outputs": [
    {
     "data": {
      "text/html": [
       "<div>\n",
       "<style scoped>\n",
       "    .dataframe tbody tr th:only-of-type {\n",
       "        vertical-align: middle;\n",
       "    }\n",
       "\n",
       "    .dataframe tbody tr th {\n",
       "        vertical-align: top;\n",
       "    }\n",
       "\n",
       "    .dataframe thead th {\n",
       "        text-align: right;\n",
       "    }\n",
       "</style>\n",
       "<table border=\"1\" class=\"dataframe\">\n",
       "  <thead>\n",
       "    <tr style=\"text-align: right;\">\n",
       "      <th></th>\n",
       "      <th>index</th>\n",
       "      <th>Unnamed: 0</th>\n",
       "      <th>Headline</th>\n",
       "      <th>Subheader</th>\n",
       "      <th>Section</th>\n",
       "      <th>Date</th>\n",
       "      <th>URL</th>\n",
       "    </tr>\n",
       "  </thead>\n",
       "  <tbody>\n",
       "    <tr>\n",
       "      <th>0</th>\n",
       "      <td>0</td>\n",
       "      <td>0</td>\n",
       "      <td>Two transgender women win seats in the next Ge...</td>\n",
       "      <td>The two lawmakers, both from the Green Party, ...</td>\n",
       "      <td>Europe</td>\n",
       "      <td>09/27/2021</td>\n",
       "      <td>/2021/09/27/world/europe/german-parliament-tra...</td>\n",
       "    </tr>\n",
       "    <tr>\n",
       "      <th>1</th>\n",
       "      <td>1</td>\n",
       "      <td>1</td>\n",
       "      <td>For Transgender Youth, Stigma Is Just One Barr...</td>\n",
       "      <td>Discrimination, delays and systemic hurdles pr...</td>\n",
       "      <td>Health</td>\n",
       "      <td>09/28/2021</td>\n",
       "      <td>/2021/09/28/health/transgender-health-care.htm...</td>\n",
       "    </tr>\n",
       "    <tr>\n",
       "      <th>2</th>\n",
       "      <td>2</td>\n",
       "      <td>2</td>\n",
       "      <td>‘Sex Education’ Gets More Inclusive in Its Int...</td>\n",
       "      <td>With its new nonbinary characters and its scen...</td>\n",
       "      <td>Television</td>\n",
       "      <td>10/06/2021</td>\n",
       "      <td>/2021/10/06/arts/television/sex-education-seas...</td>\n",
       "    </tr>\n",
       "    <tr>\n",
       "      <th>3</th>\n",
       "      <td>3</td>\n",
       "      <td>3</td>\n",
       "      <td>The A.C.L.U. Errs on R.B.G.</td>\n",
       "      <td>A bad tweet reveals a rift over gender and rep...</td>\n",
       "      <td>Opinion</td>\n",
       "      <td>09/27/2021</td>\n",
       "      <td>/2021/09/27/opinion/rbg-aclu-abortion.html?sea...</td>\n",
       "    </tr>\n",
       "    <tr>\n",
       "      <th>4</th>\n",
       "      <td>4</td>\n",
       "      <td>4</td>\n",
       "      <td>Intimate Portraits of Mexico’s Third-Gender Muxes</td>\n",
       "      <td>On the Isthmus of Tehuantepec in southern Mexi...</td>\n",
       "      <td>Travel</td>\n",
       "      <td>09/27/2021</td>\n",
       "      <td>/2021/09/27/travel/mexico-muxes-third-gender.h...</td>\n",
       "    </tr>\n",
       "  </tbody>\n",
       "</table>\n",
       "</div>"
      ],
      "text/plain": [
       "   index  Unnamed: 0                                           Headline  \\\n",
       "0      0           0  Two transgender women win seats in the next Ge...   \n",
       "1      1           1  For Transgender Youth, Stigma Is Just One Barr...   \n",
       "2      2           2  ‘Sex Education’ Gets More Inclusive in Its Int...   \n",
       "3      3           3                        The A.C.L.U. Errs on R.B.G.   \n",
       "4      4           4  Intimate Portraits of Mexico’s Third-Gender Muxes   \n",
       "\n",
       "                                           Subheader     Section        Date  \\\n",
       "0  The two lawmakers, both from the Green Party, ...      Europe  09/27/2021   \n",
       "1  Discrimination, delays and systemic hurdles pr...      Health  09/28/2021   \n",
       "2  With its new nonbinary characters and its scen...  Television  10/06/2021   \n",
       "3  A bad tweet reveals a rift over gender and rep...     Opinion  09/27/2021   \n",
       "4  On the Isthmus of Tehuantepec in southern Mexi...      Travel  09/27/2021   \n",
       "\n",
       "                                                 URL  \n",
       "0  /2021/09/27/world/europe/german-parliament-tra...  \n",
       "1  /2021/09/28/health/transgender-health-care.htm...  \n",
       "2  /2021/10/06/arts/television/sex-education-seas...  \n",
       "3  /2021/09/27/opinion/rbg-aclu-abortion.html?sea...  \n",
       "4  /2021/09/27/travel/mexico-muxes-third-gender.h...  "
      ]
     },
     "execution_count": 207,
     "metadata": {},
     "output_type": "execute_result"
    }
   ],
   "source": [
    "#check to make sure dataframe is loaded\n",
    "nytimes_trans_db.head()"
   ]
  },
  {
   "cell_type": "code",
   "execution_count": 208,
   "metadata": {},
   "outputs": [],
   "source": [
    "#converts 'Date' column to datetime\n",
    "nytimes_trans_db['Date']=pd.to_datetime(nytimes_trans_db['Date'])"
   ]
  },
  {
   "cell_type": "code",
   "execution_count": 209,
   "metadata": {},
   "outputs": [],
   "source": [
    "#sorts by dates\n",
    "nytimes_trans_db.sort_values(by='Date', inplace=True)"
   ]
  },
  {
   "cell_type": "code",
   "execution_count": 210,
   "metadata": {},
   "outputs": [
    {
     "data": {
      "text/plain": [
       "array([False])"
      ]
     },
     "execution_count": 210,
     "metadata": {},
     "output_type": "execute_result"
    }
   ],
   "source": [
    "#checks for duplicated rows\n",
    "nytimes_trans_db.duplicated().unique()"
   ]
  },
  {
   "cell_type": "code",
   "execution_count": 211,
   "metadata": {},
   "outputs": [],
   "source": [
    "#creates bins for Sections\n",
    "categories={'Arts': ['Movies','Books','Book Review', 'Theater','Arts',\n",
    "                     'Style','Television','Fashion', 'First Chapters',\n",
    "                     'Theater Reviews','Art & Design','Dance','Media','Awards Season',\n",
    "                     'Music','International Arts','Art','The Learning Network',\n",
    "                     'DealBook','Fashion & Beauty','Food'],\n",
    "            'US New': ['U.S.', 'New York', 'Connecticut', 'Americas','Education',\n",
    "                       'Education Life','Politics','Elections'],\n",
    "            'World News': ['World','Africa','Europe','Asia Pacific','Global Opinion','Middle East','Canada','Australia'],\n",
    "            'Sports': ['Sports','Olympics','College Basketball','Soccer','Golf','N.B.A.', 'Baseball',\n",
    "                       'Hockey','Tennis'],\n",
    "            'Life': ['Home & Garden','Travel','Your Money','Real Estate',\n",
    "                     'Job Market','Smarter Living','Family','Retirement','Self-Care', 'Parenting','Love','Business'],\n",
    "            'Science':['Psychology','Science','Technology','Personal Tech','Mind','Climate','Health','Fertility'],\n",
    "            'Misc': ['The City','Magazine','Week in Review','Archives','Long Island',\n",
    "                     'Sunday Review','Views','The Upshot','Times Insider', 'T Magazine',\n",
    "                     'Booming','NYT Now', 'Giving','Live','The Daily', 'Today’s Paper',\n",
    "                     'Lesson Plans','Lens','Briefing', 'Letters', 'Move', 'Well',\n",
    "                     'Reader Center', 'Podcasts','Crosswords & Games',\n",
    "                    'Opinion','Obituaries','Westchester']}"
   ]
  },
  {
   "cell_type": "code",
   "execution_count": 212,
   "metadata": {},
   "outputs": [],
   "source": [
    "#adds a category column\n",
    "nytimes_trans_db['Category']=nytimes_trans_db['Section']"
   ]
  },
  {
   "cell_type": "code",
   "execution_count": 213,
   "metadata": {},
   "outputs": [],
   "source": [
    "#organizes into categories based on Section column\n",
    "for i, row in nytimes_trans_db.iterrows():\n",
    "    for key, value in categories.items():\n",
    "        if row['Category'] in value:\n",
    "            nytimes_trans_db.loc[i,'Category']=key"
   ]
  },
  {
   "cell_type": "code",
   "execution_count": 214,
   "metadata": {},
   "outputs": [],
   "source": [
    "#creates bins for to sort articles by term used\n",
    "terms={'Transgender':['transgender','transgendered', 'transgenderism'],\n",
    "      'Transsexual':['transsexual','transsexuals']}"
   ]
  },
  {
   "cell_type": "code",
   "execution_count": 215,
   "metadata": {},
   "outputs": [],
   "source": [
    "#creates a Term column and organizes based on the main term used\n",
    "nytimes_trans_db['Term']=\"Other\"\n",
    "\n",
    "\n",
    "for i, row in nytimes_trans_db.iterrows():\n",
    "    for key, term in terms.items():\n",
    "        for word in term:\n",
    "            if word in row['Headline'].lower():\n",
    "                nytimes_trans_db.loc[i,'Term']=key\n",
    "            if pd.isnull(row['Subheader'])!=True:\n",
    "                if word in row['Subheader'].lower():\n",
    "                    nytimes_trans_db.loc[i,'Term']=key\n",
    "  "
   ]
  },
  {
   "cell_type": "code",
   "execution_count": 216,
   "metadata": {},
   "outputs": [],
   "source": [
    "nytimes_trans_db.reset_index(inplace=True)\n",
    "nytimes_trans_db_cleaned=nytimes_trans_db[['Date','Category','Section','Headline','Subheader','Term','URL']]"
   ]
  },
  {
   "cell_type": "code",
   "execution_count": 217,
   "metadata": {},
   "outputs": [
    {
     "data": {
      "text/plain": [
       "array(['Arts', 'US New', 'Misc', 'World News', 'Science', 'Life',\n",
       "       'Sports'], dtype=object)"
      ]
     },
     "execution_count": 217,
     "metadata": {},
     "output_type": "execute_result"
    }
   ],
   "source": [
    "nytimes_trans_db_cleaned['Category'].unique()"
   ]
  },
  {
   "cell_type": "code",
   "execution_count": 218,
   "metadata": {},
   "outputs": [],
   "source": [
    "#output_to_csv\n",
    "nytimes_trans_db_cleaned.to_csv(\"data/nytimes_trans_1980_2021_cleaned.csv\")"
   ]
  },
  {
   "cell_type": "code",
   "execution_count": null,
   "metadata": {},
   "outputs": [],
   "source": []
  },
  {
   "cell_type": "code",
   "execution_count": null,
   "metadata": {},
   "outputs": [],
   "source": [
    "#####PLOT GRAPHS##########"
   ]
  },
  {
   "cell_type": "code",
   "execution_count": 219,
   "metadata": {},
   "outputs": [],
   "source": [
    "#Opens csv dataframe created above and converts to Date column to datetime\n",
    "nytimes_trans_db_cleaned=pd.read_csv(\"data/nytimes_trans_1980_2021_cleaned.csv\")\n",
    "nytimes_trans_db_cleaned['Date']=pd.to_datetime(nytimes_trans_db_cleaned['Date'])"
   ]
  },
  {
   "cell_type": "code",
   "execution_count": 222,
   "metadata": {},
   "outputs": [],
   "source": [
    "#Groups by Year and Term used\n",
    "by_term_year_db=nytimes_trans_db_cleaned.groupby(['Term',pd.Grouper(key='Date', freq='Y')]).count()"
   ]
  },
  {
   "cell_type": "code",
   "execution_count": 223,
   "metadata": {},
   "outputs": [],
   "source": [
    "#gets data to graph articles that use the term Transsexual and articles that use the term Transgender\n",
    "ts=by_term_year_db.loc['Transsexual','Headline']\n",
    "tg=by_term_year_db.loc['Transgender','Headline']"
   ]
  },
  {
   "cell_type": "code",
   "execution_count": 224,
   "metadata": {},
   "outputs": [
    {
     "data": {
      "image/png": "[encoded data removed]",
      "text/plain": [
       "<Figure size 720x360 with 1 Axes>"
      ]
     },
     "metadata": {
      "needs_background": "light"
     },
     "output_type": "display_data"
    }
   ],
   "source": [
    "#PLOTS GRAPH 1\n",
    "plt.figure(figsize=(10,5))\n",
    "plt.plot(ts)\n",
    "plt.plot(tg)\n",
    "\n",
    "#create labels\n",
    "plt.ylabel (\"Number of Articles\")\n",
    "plt.xlabel (\"Year\")\n",
    "plt.title(\"Transgenderism in The New York Times (1980-Present)\")\n",
    "\n",
    "#create legend\n",
    "\n",
    "plt.grid()\n",
    "plt.show()"
   ]
  },
  {
   "cell_type": "code",
   "execution_count": 164,
   "metadata": {},
   "outputs": [],
   "source": []
  },
  {
   "cell_type": "code",
   "execution_count": 231,
   "metadata": {},
   "outputs": [],
   "source": [
    "#Groups by Category\n",
    "by_category_db=nytimes_trans_db_cleaned.groupby(['Category']).count()"
   ]
  },
  {
   "cell_type": "code",
   "execution_count": 252,
   "metadata": {},
   "outputs": [
    {
     "data": {
      "image/png": "[encoded data removed]",
      "text/plain": [
       "<Figure size 720x720 with 1 Axes>"
      ]
     },
     "metadata": {},
     "output_type": "display_data"
    }
   ],
   "source": [
    "#Plot Category pie Chart\n",
    "plt.figure(figsize=(10,10))\n",
    "\n",
    "#Create Labels\n",
    "labels=nytimes_trans_db_cleaned['Category'].unique()\n",
    "sizes=by_category_db['Headline']\n",
    "colors=['#FFBF00','#40E0D0','#CCCCFF','#DFFF00','#6495ED','#9FE2BF','#FF7F50']\n",
    "explode=(.1,0,0,0,0,0,0)\n",
    "\n",
    "#Plot Graph\n",
    "plt.pie(sizes,explode=explode,colors=colors,labels=labels,autopct='%1.1f%%')\n",
    "plt.show()"
   ]
  },
  {
   "cell_type": "code",
   "execution_count": null,
   "metadata": {},
   "outputs": [],
   "source": []
  },
  {
   "cell_type": "code",
   "execution_count": null,
   "metadata": {},
   "outputs": [],
   "source": []
  },
  {
   "cell_type": "code",
   "execution_count": 3,
   "metadata": {},
   "outputs": [
    {
     "data": {
      "text/html": [
       "<div>\n",
       "<style scoped>\n",
       "    .dataframe tbody tr th:only-of-type {\n",
       "        vertical-align: middle;\n",
       "    }\n",
       "\n",
       "    .dataframe tbody tr th {\n",
       "        vertical-align: top;\n",
       "    }\n",
       "\n",
       "    .dataframe thead th {\n",
       "        text-align: right;\n",
       "    }\n",
       "</style>\n",
       "<table border=\"1\" class=\"dataframe\">\n",
       "  <thead>\n",
       "    <tr style=\"text-align: right;\">\n",
       "      <th></th>\n",
       "      <th>apples</th>\n",
       "      <th>bananas</th>\n",
       "    </tr>\n",
       "  </thead>\n",
       "  <tbody>\n",
       "    <tr>\n",
       "      <th>0</th>\n",
       "      <td>10</td>\n",
       "      <td>20</td>\n",
       "    </tr>\n",
       "    <tr>\n",
       "      <th>1</th>\n",
       "      <td>20</td>\n",
       "      <td>40</td>\n",
       "    </tr>\n",
       "    <tr>\n",
       "      <th>2</th>\n",
       "      <td>30</td>\n",
       "      <td>60</td>\n",
       "    </tr>\n",
       "  </tbody>\n",
       "</table>\n",
       "</div>"
      ],
      "text/plain": [
       "   apples  bananas\n",
       "0      10       20\n",
       "1      20       40\n",
       "2      30       60"
      ]
     },
     "execution_count": 3,
     "metadata": {},
     "output_type": "execute_result"
    }
   ],
   "source": [
    "a=[10,20,30]\n",
    "test_df=pd.DataFrame({'apples':a})\n",
    "test_df['bananas']=test_df['apples']*2\n",
    "test_df"
   ]
  },
  {
   "cell_type": "code",
   "execution_count": 115,
   "metadata": {},
   "outputs": [
    {
     "name": "stdout",
     "output_type": "stream",
     "text": [
      "1\n"
     ]
    },
    {
     "data": {
      "text/html": [
       "<div>\n",
       "<style scoped>\n",
       "    .dataframe tbody tr th:only-of-type {\n",
       "        vertical-align: middle;\n",
       "    }\n",
       "\n",
       "    .dataframe tbody tr th {\n",
       "        vertical-align: top;\n",
       "    }\n",
       "\n",
       "    .dataframe thead th {\n",
       "        text-align: right;\n",
       "    }\n",
       "</style>\n",
       "<table border=\"1\" class=\"dataframe\">\n",
       "  <thead>\n",
       "    <tr style=\"text-align: right;\">\n",
       "      <th></th>\n",
       "      <th>apples</th>\n",
       "      <th>bananas</th>\n",
       "    </tr>\n",
       "  </thead>\n",
       "  <tbody>\n",
       "    <tr>\n",
       "      <th>0</th>\n",
       "      <td>10</td>\n",
       "      <td>20</td>\n",
       "    </tr>\n",
       "    <tr>\n",
       "      <th>1</th>\n",
       "      <td>20</td>\n",
       "      <td>80</td>\n",
       "    </tr>\n",
       "    <tr>\n",
       "      <th>2</th>\n",
       "      <td>30</td>\n",
       "      <td>60</td>\n",
       "    </tr>\n",
       "  </tbody>\n",
       "</table>\n",
       "</div>"
      ],
      "text/plain": [
       "   apples  bananas\n",
       "0      10       20\n",
       "1      20       80\n",
       "2      30       60"
      ]
     },
     "execution_count": 115,
     "metadata": {},
     "output_type": "execute_result"
    }
   ],
   "source": [
    "sample[20,30]\n",
    "for i, row in test_df.iterrows():\n",
    "    print(row['Category'])\n",
    "    for key, value in categories.items():\n",
    "        if row['Category'] in value:\n",
    "            test_df.loc[i,'Category']=key"
   ]
  },
  {
   "cell_type": "code",
   "execution_count": 85,
   "metadata": {},
   "outputs": [
    {
     "data": {
      "text/html": [
       "<div>\n",
       "<style scoped>\n",
       "    .dataframe tbody tr th:only-of-type {\n",
       "        vertical-align: middle;\n",
       "    }\n",
       "\n",
       "    .dataframe tbody tr th {\n",
       "        vertical-align: top;\n",
       "    }\n",
       "\n",
       "    .dataframe thead th {\n",
       "        text-align: right;\n",
       "    }\n",
       "</style>\n",
       "<table border=\"1\" class=\"dataframe\">\n",
       "  <thead>\n",
       "    <tr style=\"text-align: right;\">\n",
       "      <th></th>\n",
       "      <th>apples</th>\n",
       "      <th>bananas</th>\n",
       "    </tr>\n",
       "  </thead>\n",
       "  <tbody>\n",
       "    <tr>\n",
       "      <th>0</th>\n",
       "      <td>30</td>\n",
       "      <td>20</td>\n",
       "    </tr>\n",
       "    <tr>\n",
       "      <th>1</th>\n",
       "      <td>20</td>\n",
       "      <td>40</td>\n",
       "    </tr>\n",
       "    <tr>\n",
       "      <th>2</th>\n",
       "      <td>30</td>\n",
       "      <td>60</td>\n",
       "    </tr>\n",
       "  </tbody>\n",
       "</table>\n",
       "</div>"
      ],
      "text/plain": [
       "   apples  bananas\n",
       "0      30       20\n",
       "1      20       40\n",
       "2      30       60"
      ]
     },
     "execution_count": 85,
     "metadata": {},
     "output_type": "execute_result"
    }
   ],
   "source": [
    "#test_df['apples']\n",
    "test_df.loc[0,'apples']=30\n",
    "test_df"
   ]
  },
  {
   "cell_type": "code",
   "execution_count": 4,
   "metadata": {},
   "outputs": [
    {
     "data": {
      "text/plain": [
       "\"NASA's Curiosity Takes Selfie With 'Mary Anning' on the Red Planet\""
      ]
     },
     "execution_count": 4,
     "metadata": {},
     "output_type": "execute_result"
    }
   ],
   "source": [
    "#1)Scrape the Mars News Site and collect the latest News Title and Paragraph Text\n",
    "url='https://redplanetscience.com/'\n",
    "soup=parser(url)\n",
    "\n",
    "#declare variables -- originally I read the above as finding all the latest News Titles and decided to keep it for practice\n",
    "mars_titles=[]\n",
    "mars_paragraphs=[]\n",
    "\n",
    "#scrape titles\n",
    "results=soup.find_all('div', class_='content_title')\n",
    "\n",
    "#append titles to list\n",
    "for result in results:\n",
    "    mars_titles.append(result.text.strip())\n",
    "\n",
    "#assign the most recent title to a variable \n",
    "news_title=mars_titles[0]\n",
    "\n",
    "#print results to verify\n",
    "news_title"
   ]
  },
  {
   "cell_type": "code",
   "execution_count": 42,
   "metadata": {},
   "outputs": [
    {
     "data": {
      "text/plain": [
       "['Politics', 'Elections']"
      ]
     },
     "execution_count": 42,
     "metadata": {},
     "output_type": "execute_result"
    }
   ],
   "source": [
    "categories['Politics']"
   ]
  },
  {
   "cell_type": "code",
   "execution_count": 5,
   "metadata": {},
   "outputs": [
    {
     "name": "stdout",
     "output_type": "stream",
     "text": [
      "The Mars rover has drilled three samples of rock in this clay-enriched region since arriving in July.\n"
     ]
    }
   ],
   "source": [
    "#scrape paragraph\n",
    "results=soup.find_all('div', 'article_teaser_body')\n",
    "\n",
    "#append paragraphs to list\n",
    "for result in results:\n",
    "    mars_paragraphs.append(result.text.strip())\n",
    "    \n",
    "#save 1st paragraph\n",
    "news_p=mars_paragraphs[0]\n",
    "\n",
    "print (news_p)"
   ]
  },
  {
   "cell_type": "code",
   "execution_count": 6,
   "metadata": {},
   "outputs": [],
   "source": [
    "#2)Visit the url for the Featured Space Image site here.\n",
    "\n",
    "#parse feature image site\n",
    "url='https://spaceimages-mars.com/'\n",
    "soup=parser(url)"
   ]
  },
  {
   "cell_type": "code",
   "execution_count": 7,
   "metadata": {},
   "outputs": [
    {
     "name": "stdout",
     "output_type": "stream",
     "text": [
      "https://spaceimages-mars.com/image/featured/mars2.jpg\n"
     ]
    }
   ],
   "source": [
    "#Use splinter to navigate the site and find the image url for the current Featured Mars Image\n",
    "browser.links.find_by_partial_text('FULL IMAGE').click()\n",
    "\n",
    "#store new html\n",
    "html = browser.html\n",
    "soup = BeautifulSoup(html, 'html.parser')\n",
    "\n",
    "#save feature image source\n",
    "result=soup.find('img', class_='fancybox-image')\n",
    "featured_image_url=url+result['src']\n",
    "\n",
    "print(featured_image_url)"
   ]
  },
  {
   "cell_type": "code",
   "execution_count": 8,
   "metadata": {},
   "outputs": [],
   "source": [
    "#Visit the Mars Facts webpage here and use Pandas to scrape the table\n",
    "\n",
    "url='https://galaxyfacts-mars.com/'\n",
    "tables=pd.read_html(url)"
   ]
  },
  {
   "cell_type": "code",
   "execution_count": 9,
   "metadata": {},
   "outputs": [
    {
     "data": {
      "text/html": [
       "<div>\n",
       "<style scoped>\n",
       "    .dataframe tbody tr th:only-of-type {\n",
       "        vertical-align: middle;\n",
       "    }\n",
       "\n",
       "    .dataframe tbody tr th {\n",
       "        vertical-align: top;\n",
       "    }\n",
       "\n",
       "    .dataframe thead th {\n",
       "        text-align: right;\n",
       "    }\n",
       "</style>\n",
       "<table border=\"1\" class=\"dataframe\">\n",
       "  <thead>\n",
       "    <tr style=\"text-align: right;\">\n",
       "      <th></th>\n",
       "      <th>Mars</th>\n",
       "      <th>Earth</th>\n",
       "    </tr>\n",
       "    <tr>\n",
       "      <th>Description</th>\n",
       "      <th></th>\n",
       "      <th></th>\n",
       "    </tr>\n",
       "  </thead>\n",
       "  <tbody>\n",
       "    <tr>\n",
       "      <th>Mars - Earth Comparison</th>\n",
       "      <td>Mars</td>\n",
       "      <td>Earth</td>\n",
       "    </tr>\n",
       "    <tr>\n",
       "      <th>Diameter:</th>\n",
       "      <td>6,779 km</td>\n",
       "      <td>12,742 km</td>\n",
       "    </tr>\n",
       "    <tr>\n",
       "      <th>Mass:</th>\n",
       "      <td>6.39 × 10^23 kg</td>\n",
       "      <td>5.97 × 10^24 kg</td>\n",
       "    </tr>\n",
       "    <tr>\n",
       "      <th>Moons:</th>\n",
       "      <td>2</td>\n",
       "      <td>1</td>\n",
       "    </tr>\n",
       "    <tr>\n",
       "      <th>Distance from Sun:</th>\n",
       "      <td>227,943,824 km</td>\n",
       "      <td>149,598,262 km</td>\n",
       "    </tr>\n",
       "    <tr>\n",
       "      <th>Length of Year:</th>\n",
       "      <td>687 Earth days</td>\n",
       "      <td>365.24 days</td>\n",
       "    </tr>\n",
       "    <tr>\n",
       "      <th>Temperature:</th>\n",
       "      <td>-87 to -5 °C</td>\n",
       "      <td>-88 to 58°C</td>\n",
       "    </tr>\n",
       "  </tbody>\n",
       "</table>\n",
       "</div>"
      ],
      "text/plain": [
       "                                    Mars            Earth\n",
       "Description                                              \n",
       "Mars - Earth Comparison             Mars            Earth\n",
       "Diameter:                       6,779 km        12,742 km\n",
       "Mass:                    6.39 × 10^23 kg  5.97 × 10^24 kg\n",
       "Moons:                                 2                1\n",
       "Distance from Sun:        227,943,824 km   149,598,262 km\n",
       "Length of Year:           687 Earth days      365.24 days\n",
       "Temperature:                -87 to -5 °C      -88 to 58°C"
      ]
     },
     "execution_count": 9,
     "metadata": {},
     "output_type": "execute_result"
    }
   ],
   "source": [
    "#Use Pandas to convert the data to a HTML table string.\n",
    "the_table=tables[0].set_index(0)\n",
    "the_table.rename(columns={1:'Mars',2:'Earth'},inplace=True)\n",
    "the_table.index.names = ['Description']\n",
    "\n",
    "#set table to html\n",
    "the_table_html=the_table.to_html()\n",
    "\n",
    "#print to verify\n",
    "the_table"
   ]
  },
  {
   "cell_type": "code",
   "execution_count": 10,
   "metadata": {},
   "outputs": [
    {
     "data": {
      "text/plain": [
       "[{'title': 'Cerberus Hemisphere Enhanced',\n",
       "  'img_url': 'https://marshemispheres.com/images/full.jpg'},\n",
       " {'title': 'Schiaparelli Hemisphere Enhanced',\n",
       "  'img_url': 'https://marshemispheres.com/images/schiaparelli_enhanced-full.jpg'},\n",
       " {'title': 'Syrtis Major Hemisphere Enhanced',\n",
       "  'img_url': 'https://marshemispheres.com/images/syrtis_major_enhanced-full.jpg'},\n",
       " {'title': 'Valles Marineris Hemisphere Enhanced',\n",
       "  'img_url': 'https://marshemispheres.com/images/valles_marineris_enhanced-full.jpg'}]"
      ]
     },
     "execution_count": 10,
     "metadata": {},
     "output_type": "execute_result"
    }
   ],
   "source": [
    "#function to pull the image url\n",
    "def imagePull(hemisphere):\n",
    "    \n",
    "    #click on link for hemisphere\n",
    "    browser.links.find_by_partial_text(hemisphere).click()\n",
    "    \n",
    "    #parse the new browser\n",
    "    html = browser.html\n",
    "    temp = BeautifulSoup(html, 'html.parser')\n",
    "    \n",
    "    #find the large image file\n",
    "    the_image=temp.find('a',text='Sample')\n",
    "    \n",
    "    #move back to original page\n",
    "    browser.links.find_by_partial_text('Back').click()\n",
    "\n",
    "    return the_image['href']\n",
    "\n",
    "#----------------------------------------------------\n",
    "#list to store dictionary of image url and title\n",
    "hemisphere_image_urls=[]\n",
    "\n",
    "#open the page\n",
    "url='https://marshemispheres.com/'\n",
    "soup=parser(url)\n",
    "\n",
    "#finds link names\n",
    "links=soup.find_all('h3')\n",
    "\n",
    "#loops through the first four links\n",
    "for link in links:\n",
    "    if link.text !='Back':\n",
    "        the_image_url=f'{url}{imagePull(link.text)}'\n",
    "        \n",
    "        #append the list with a dictionary\n",
    "        hemisphere_image_urls.append({\"title\": link.text, \"img_url\":the_image_url})\n",
    "\n",
    "hemisphere_image_urls"
   ]
  },
  {
   "cell_type": "code",
   "execution_count": 11,
   "metadata": {},
   "outputs": [],
   "source": [
    "#return a dictionary of all the scraped data\n",
    "scraped_data={\n",
    "    \"latest_title\":news_title,\"latest_p\":news_p,\n",
    "    \"featured_image\":featured_image_url,\n",
    "    \"the_table\":the_table_html,\n",
    "    \"the_hemispheres\":hemisphere_image_urls    \n",
    "}"
   ]
  },
  {
   "cell_type": "code",
   "execution_count": 705,
   "metadata": {},
   "outputs": [],
   "source": [
    "browser.quit()"
   ]
  },
  {
   "cell_type": "code",
   "execution_count": null,
   "metadata": {},
   "outputs": [],
   "source": []
  }
 ],
 "metadata": {
  "kernelspec": {
   "display_name": "Python [conda env:PythonData] *",
   "language": "python",
   "name": "conda-env-PythonData-py"
  },
  "language_info": {
   "codemirror_mode": {
    "name": "ipython",
    "version": 3
   },
   "file_extension": ".py",
   "mimetype": "text/x-python",
   "name": "python",
   "nbconvert_exporter": "python",
   "pygments_lexer": "ipython3",
   "version": "3.6.10"
  }
 },
 "nbformat": 4,
 "nbformat_minor": 4
}
